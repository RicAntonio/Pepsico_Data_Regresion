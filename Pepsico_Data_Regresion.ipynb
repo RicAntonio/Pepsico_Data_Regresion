{
  "nbformat": 4,
  "nbformat_minor": 0,
  "metadata": {
    "colab": {
      "provenance": [],
      "authorship_tag": "ABX9TyOKHT/D4ZFtbVV+bktakUCc",
      "include_colab_link": true
    },
    "kernelspec": {
      "name": "python3",
      "display_name": "Python 3"
    },
    "language_info": {
      "name": "python"
    }
  },
  "cells": [
    {
      "cell_type": "markdown",
      "metadata": {
        "id": "view-in-github",
        "colab_type": "text"
      },
      "source": [
        "<a href=\"https://colab.research.google.com/github/RicAntonio/Pepsico_Data_Regresion/blob/main/Pepsico_Data_Regresion.ipynb\" target=\"_parent\"><img src=\"https://colab.research.google.com/assets/colab-badge.svg\" alt=\"Open In Colab\"/></a>"
      ]
    },
    {
      "cell_type": "markdown",
      "source": [
        "PROYECTO REGRESION DE LAS ACCIONES DE PEPSICO"
      ],
      "metadata": {
        "id": "X9kRwR7XmSyA"
      }
    },
    {
      "cell_type": "code",
      "execution_count": 6,
      "metadata": {
        "id": "ISaHYUYVEm-_",
        "colab": {
          "base_uri": "https://localhost:8080/"
        },
        "outputId": "c73ac4e2-e465-4dd8-ebec-86a458ac6a77"
      },
      "outputs": [
        {
          "output_type": "stream",
          "name": "stdout",
          "text": [
            "Requirement already satisfied: pandas in /usr/local/lib/python3.10/dist-packages (2.1.4)\n",
            "Requirement already satisfied: scikit-learn in /usr/local/lib/python3.10/dist-packages (1.3.2)\n",
            "Requirement already satisfied: numpy<2,>=1.22.4 in /usr/local/lib/python3.10/dist-packages (from pandas) (1.26.4)\n",
            "Requirement already satisfied: python-dateutil>=2.8.2 in /usr/local/lib/python3.10/dist-packages (from pandas) (2.8.2)\n",
            "Requirement already satisfied: pytz>=2020.1 in /usr/local/lib/python3.10/dist-packages (from pandas) (2024.2)\n",
            "Requirement already satisfied: tzdata>=2022.1 in /usr/local/lib/python3.10/dist-packages (from pandas) (2024.1)\n",
            "Requirement already satisfied: scipy>=1.5.0 in /usr/local/lib/python3.10/dist-packages (from scikit-learn) (1.13.1)\n",
            "Requirement already satisfied: joblib>=1.1.1 in /usr/local/lib/python3.10/dist-packages (from scikit-learn) (1.4.2)\n",
            "Requirement already satisfied: threadpoolctl>=2.0.0 in /usr/local/lib/python3.10/dist-packages (from scikit-learn) (3.5.0)\n",
            "Requirement already satisfied: six>=1.5 in /usr/local/lib/python3.10/dist-packages (from python-dateutil>=2.8.2->pandas) (1.16.0)\n",
            "Mounted at /content/drive\n"
          ]
        }
      ],
      "source": [
        "# Instalar dependencias (solo la primera vez)\n",
        "!pip install pandas scikit-learn\n",
        "import pandas as pd\n",
        "from sklearn.preprocessing import StandardScaler\n",
        "from google.colab import drive\n",
        "\n",
        "#Montar Google Drive si necesitas guardar o cargar archivos desde allí\n",
        "drive.mount('/content/drive' , force_remount=True)\n",
        "\n",
        "# Si el dataset está en Google Drive, puedes accederlo con algo como:\n",
        "data_filepath = '/content/drive/MyDrive/Pepsico_Data.csv'\n",
        "\n",
        "# Cargar los datos desde Google Drive\n",
        "def load_data():\n",
        "    csv_path = '/content/drive/MyDrive/Pepsico_Data.csv'  # Ruta en Google Drive\n",
        "    return pd.read_csv(csv_path, parse_dates=[\"Date\"], index_col=\"Date\")\n",
        "\n",
        "# Generar las características\n",
        "def generate_features(data):\n",
        "    # Crear características como precios anteriores, medias móviles, etc.\n",
        "    data['Prev Close'] = data['Close'].shift(1)\n",
        "    data['Moving Average 5'] = data['Close'].rolling(window=5).mean()\n",
        "    data['Moving Average 10'] = data['Close'].rolling(window=10).mean()\n",
        "    data.dropna(inplace=True)  # Eliminar filas con valores NaN después de las transformaciones\n",
        "\n",
        "    X = data[['Prev Close', 'Moving Average 5', 'Moving Average 10']]\n",
        "    y = data['Close']\n",
        "    return X, y\n",
        "\n",
        "# Guardar las características en Google Drive\n",
        "def save_features(X, y):\n",
        "    X_path = '/content/drive/MyDrive/features.csv'\n",
        "    y_path = '/content/drive/MyDrive/labels.csv'\n",
        "    X.to_csv(X_path, index=True)\n",
        "    y.to_csv(y_path, index=True)\n",
        "\n",
        "def main():\n",
        "    data = load_data()  # Cargar los datos de Pepsico desde Google Drive\n",
        "    X, y = generate_features(data)\n",
        "\n",
        "    # Escalar características (opcional)\n",
        "    scaler = StandardScaler()\n",
        "    X_scaled = scaler.fit_transform(X)\n",
        "\n",
        "    save_features(pd.DataFrame(X_scaled, columns=X.columns), y)\n",
        "\n",
        "if __name__ == \"__main__\":\n",
        "    main()\n",
        "\n"
      ]
    },
    {
      "cell_type": "code",
      "source": [
        "# Instalar dependencias (si es necesario)\n",
        "!pip install pandas scikit-learn\n",
        "\n",
        "import pandas as pd\n",
        "import pickle\n",
        "from sklearn.linear_model import LinearRegression\n",
        "from sklearn.model_selection import train_test_split\n",
        "from google.colab import drive\n",
        "\n",
        "# Montar Google Drive (si no está montado ya)\n",
        "drive.mount('/content/drive')\n",
        "\n",
        "# Cargar las características y etiquetas desde Google Drive\n",
        "def load_features():\n",
        "    X_path = '/content/drive/MyDrive/features.csv'\n",
        "    y_path = '/content/drive/MyDrive/labels.csv'\n",
        "    X = pd.read_csv(X_path, index_col=0)\n",
        "    y = pd.read_csv(y_path, index_col=0)\n",
        "    return X, y\n",
        "\n",
        "# Entrenar el modelo\n",
        "def train_model(X, y):\n",
        "    X_train, X_val, y_train, y_val = train_test_split(X, y, test_size=0.2, random_state=42)\n",
        "    model = LinearRegression()\n",
        "    model.fit(X_train, y_train)\n",
        "    return model\n",
        "\n",
        "# Guardar el modelo en Google Drive\n",
        "def save_model(model):\n",
        "    model_path = '/content/drive/MyDrive/model.pkl'\n",
        "    with open(model_path, 'wb') as f:\n",
        "        pickle.dump(model, f)\n",
        "\n",
        "def main():\n",
        "    X, y = load_features()  # Cargar las características\n",
        "    model = train_model(X, y)\n",
        "    save_model(model)  # Guardar el modelo\n",
        "\n",
        "if __name__ == \"__main__\":\n",
        "    main()\n"
      ],
      "metadata": {
        "colab": {
          "base_uri": "https://localhost:8080/"
        },
        "id": "k0GFVbWW9GMA",
        "outputId": "e8d11fdf-9a1b-43a7-a451-b2ea6cfee0ba"
      },
      "execution_count": 7,
      "outputs": [
        {
          "output_type": "stream",
          "name": "stdout",
          "text": [
            "Requirement already satisfied: pandas in /usr/local/lib/python3.10/dist-packages (2.1.4)\n",
            "Requirement already satisfied: scikit-learn in /usr/local/lib/python3.10/dist-packages (1.3.2)\n",
            "Requirement already satisfied: numpy<2,>=1.22.4 in /usr/local/lib/python3.10/dist-packages (from pandas) (1.26.4)\n",
            "Requirement already satisfied: python-dateutil>=2.8.2 in /usr/local/lib/python3.10/dist-packages (from pandas) (2.8.2)\n",
            "Requirement already satisfied: pytz>=2020.1 in /usr/local/lib/python3.10/dist-packages (from pandas) (2024.2)\n",
            "Requirement already satisfied: tzdata>=2022.1 in /usr/local/lib/python3.10/dist-packages (from pandas) (2024.1)\n",
            "Requirement already satisfied: scipy>=1.5.0 in /usr/local/lib/python3.10/dist-packages (from scikit-learn) (1.13.1)\n",
            "Requirement already satisfied: joblib>=1.1.1 in /usr/local/lib/python3.10/dist-packages (from scikit-learn) (1.4.2)\n",
            "Requirement already satisfied: threadpoolctl>=2.0.0 in /usr/local/lib/python3.10/dist-packages (from scikit-learn) (3.5.0)\n",
            "Requirement already satisfied: six>=1.5 in /usr/local/lib/python3.10/dist-packages (from python-dateutil>=2.8.2->pandas) (1.16.0)\n",
            "Drive already mounted at /content/drive; to attempt to forcibly remount, call drive.mount(\"/content/drive\", force_remount=True).\n"
          ]
        }
      ]
    },
    {
      "cell_type": "code",
      "source": [
        "# Instalar dependencias (si es necesario)\n",
        "!pip install pandas scikit-learn\n",
        "\n",
        "import pandas as pd\n",
        "import pickle\n",
        "from google.colab import drive\n",
        "\n",
        "# Montar Google Drive (si no está montado ya)\n",
        "drive.mount('/content/drive')\n",
        "\n",
        "# Cargar el modelo desde Google Drive\n",
        "def load_model():\n",
        "    model_path = '/content/drive/MyDrive/model.pkl'\n",
        "    with open(model_path, 'rb') as f:\n",
        "        return pickle.load(f)\n",
        "\n",
        "# Cargar nuevas características desde Google Drive\n",
        "def load_new_features():\n",
        "    features_path = '/content/drive/MyDrive/features.csv'  # Suponiendo que tienes nuevos datos ingresa new_features en \"features\"\n",
        "    return pd.read_csv(features_path, index_col=0)\n",
        "\n",
        "# Generar predicciones\n",
        "def generate_predictions(model, X):\n",
        "    return model.predict(X)\n",
        "\n",
        "# Guardar las predicciones en Google Drive\n",
        "def save_predictions(predictions):\n",
        "    output_path = '/content/drive/MyDrive/predictions.csv'\n",
        "    pd.DataFrame(predictions, columns=['Predicted Price']).to_csv(output_path, index=False)\n",
        "\n",
        "def main():\n",
        "    model = load_model()  # Cargar el modelo entrenado\n",
        "    X_new = load_new_features()  # Cargar nuevas características\n",
        "    predictions = generate_predictions(model, X_new)\n",
        "    save_predictions(predictions)  # Guardar predicciones\n",
        "\n",
        "if __name__ == \"__main__\":\n",
        "    main()\n"
      ],
      "metadata": {
        "colab": {
          "base_uri": "https://localhost:8080/"
        },
        "id": "rVWl26969NOR",
        "outputId": "2edebebe-8905-4d0c-a48b-13c8bb8d7cce"
      },
      "execution_count": 10,
      "outputs": [
        {
          "output_type": "stream",
          "name": "stdout",
          "text": [
            "Requirement already satisfied: pandas in /usr/local/lib/python3.10/dist-packages (2.1.4)\n",
            "Requirement already satisfied: scikit-learn in /usr/local/lib/python3.10/dist-packages (1.3.2)\n",
            "Requirement already satisfied: numpy<2,>=1.22.4 in /usr/local/lib/python3.10/dist-packages (from pandas) (1.26.4)\n",
            "Requirement already satisfied: python-dateutil>=2.8.2 in /usr/local/lib/python3.10/dist-packages (from pandas) (2.8.2)\n",
            "Requirement already satisfied: pytz>=2020.1 in /usr/local/lib/python3.10/dist-packages (from pandas) (2024.2)\n",
            "Requirement already satisfied: tzdata>=2022.1 in /usr/local/lib/python3.10/dist-packages (from pandas) (2024.1)\n",
            "Requirement already satisfied: scipy>=1.5.0 in /usr/local/lib/python3.10/dist-packages (from scikit-learn) (1.13.1)\n",
            "Requirement already satisfied: joblib>=1.1.1 in /usr/local/lib/python3.10/dist-packages (from scikit-learn) (1.4.2)\n",
            "Requirement already satisfied: threadpoolctl>=2.0.0 in /usr/local/lib/python3.10/dist-packages (from scikit-learn) (3.5.0)\n",
            "Requirement already satisfied: six>=1.5 in /usr/local/lib/python3.10/dist-packages (from python-dateutil>=2.8.2->pandas) (1.16.0)\n",
            "Drive already mounted at /content/drive; to attempt to forcibly remount, call drive.mount(\"/content/drive\", force_remount=True).\n"
          ]
        }
      ]
    }
  ]
}